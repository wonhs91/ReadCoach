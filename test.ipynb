{
 "cells": [
  {
   "cell_type": "code",
   "execution_count": null,
   "id": "6551e44e",
   "metadata": {},
   "outputs": [
    {
     "data": {
      "image/png": "[encoded data removed]",
      "text/plain": [
       "<IPython.core.display.Image object>"
      ]
     },
     "metadata": {},
     "output_type": "display_data"
    }
   ],
   "source": [
    "from app.agent_graph import GRAPH\n",
    "from langchain_core.messages import HumanMessage\n",
    "from dotenv import load_dotenv\n",
    "\n",
    "load_dotenv()\n",
    "\n",
    "config = {\"configurable\": {\"user_id\": \"1\"}}\n",
    "\n",
    "from IPython.display import Image, display\n",
    "display(Image(GRAPH.get_graph().draw_mermaid_png()))"
   ]
  },
  {
   "cell_type": "code",
   "execution_count": 2,
   "id": "ea7b144c",
   "metadata": {},
   "outputs": [
    {
     "name": "stdout",
     "output_type": "stream",
     "text": [
      "Of course! To help me recommend the best books for you, could you please share your age and your favorite genres?\n",
      "Here are some fantastic fantasy books that I think you'll enjoy:\n",
      "\n",
      "1. **The Lightning Thief** by Rick Riordan\n",
      "   - **Summary**: A boy discovers he is a demigod and embarks on a quest.\n",
      "   - **Age Range**: 10-14\n",
      "   - **Why You'll Like It**: This book is filled with adventure, mythology, and humor, making it a perfect fit for fantasy lovers!\n",
      "\n",
      "2. **Esperanza Rising** by Pam Muñoz Ryan\n",
      "   - **Summary**: A girl from Mexico moves to California during the Great Depression.\n",
      "   - **Age Range**: 10-14\n",
      "   - **Why You'll Like It**: While it's more historical, it has elements of hope and resilience that can resonate with fantasy themes.\n",
      "\n",
      "3. **New Kid** by Jerry Craft\n",
      "   - **Summary**: A middle schooler navigates a new private school and identity.\n",
      "   - **Age Range**: 10-14\n",
      "   - **Why You'll Like It**: This graphic novel explores themes of identity and belonging, which can be just as captivating as fantasy worlds.\n",
      "\n",
      "If you want more recommendations or details about any specific book, just let me know!\n",
      "It seems there was an issue retrieving more recommendations. However, I can suggest a few more popular fantasy books that you might enjoy:\n",
      "\n",
      "1. **Harry Potter and the Sorcerer's Stone** by J.K. Rowling\n",
      "   - **Summary**: A young boy discovers he is a wizard and attends Hogwarts School of Witchcraft and Wizardry.\n",
      "   - **Why You'll Like It**: This classic series is filled with magic, friendship, and adventure.\n",
      "\n",
      "2. **Percy Jackson & The Olympians: The Sea of Monsters** by Rick Riordan\n",
      "   - **Summary**: Percy Jackson returns for another adventure as he seeks the mythical Golden Fleece.\n",
      "   - **Why You'll Like It**: If you enjoyed \"The Lightning Thief,\" this sequel continues the exciting journey!\n",
      "\n",
      "3. **The Hobbit** by J.R.R. Tolkien\n",
      "   - **Summary**: Bilbo Baggins, a hobbit, goes on an unexpected adventure with a group of dwarves to reclaim their treasure from a dragon.\n",
      "   - **Why You'll Like It**: This book is a timeless fantasy adventure that introduces readers to Middle-earth.\n",
      "\n",
      "If you want more specific recommendations or details about any of these books, just let me know!\n"
     ]
    }
   ],
   "source": [
    "input_message = \"\"\n",
    "while input_message.lower() != \"exit\":\n",
    "    input_message = input(\"Enter your message: \")\n",
    "    if input_message.lower() == \"exit\":\n",
    "        break\n",
    "    result = GRAPH.invoke({\"messages\": [HumanMessage(content=input_message)]}, config=config)\n",
    "    print(result[\"messages\"][-1].content)"
   ]
  },
  {
   "cell_type": "code",
   "execution_count": null,
   "id": "1421231a",
   "metadata": {},
   "outputs": [],
   "source": []
  }
 ],
 "metadata": {
  "kernelspec": {
   "display_name": ".venv",
   "language": "python",
   "name": "python3"
  },
  "language_info": {
   "codemirror_mode": {
    "name": "ipython",
    "version": 3
   },
   "file_extension": ".py",
   "mimetype": "text/x-python",
   "name": "python",
   "nbconvert_exporter": "python",
   "pygments_lexer": "ipython3",
   "version": "3.13.1"
  }
 },
 "nbformat": 4,
 "nbformat_minor": 5
}
